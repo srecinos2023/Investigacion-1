{
 "cells": [
  {
   "cell_type": "code",
   "execution_count": 9,
   "id": "c1a77df0-64d0-4e69-a0f9-dcd08e6c103d",
   "metadata": {},
   "outputs": [
    {
     "name": "stdin",
     "output_type": "stream",
     "text": [
      "ingrese la cantidad de segundos 7854\n"
     ]
    },
    {
     "name": "stdout",
     "output_type": "stream",
     "text": [
      " son: 2 horas y 10 minutos y 54 segundos\n",
      "terminó el programa\n"
     ]
    }
   ],
   "source": [
    "##ejercicio1 \n",
    "try:\n",
    "    segundos= int(input(\"ingrese la cantidad de segundos\"))\n",
    "    horas = segundos // 3600\n",
    "    segundos = segundos % 3600\n",
    "    minutos = segundos //60\n",
    "    segundos = segundos % 60 \n",
    "    print(\" son: {} horas y {} minutos y {} segundos\".format(horas, minutos,segundos))\n",
    "except ValueError:\n",
    "    print(\"ingrese un numero entero \")\n",
    "finally:\n",
    "    print(\"terminó el programa\")\n",
    "\n"
   ]
  },
  {
   "cell_type": "code",
   "execution_count": 462,
   "id": "6e8e2daa-4a6e-4d2e-9ab6-d211017f9a2d",
   "metadata": {},
   "outputs": [
    {
     "name": "stdin",
     "output_type": "stream",
     "text": [
      "ingrese un numero entero 4\n"
     ]
    },
    {
     "name": "stdout",
     "output_type": "stream",
     "text": [
      "\n",
      "*\n",
      "**\n",
      "***\n",
      "****\n",
      "\n",
      "\n",
      "****\n",
      " ***\n",
      "  **\n",
      "   *\n",
      "\n",
      "\n",
      "****\n",
      "***\n",
      "**\n",
      "*\n",
      "\n",
      "\n",
      "    \n",
      "   *\n",
      "  **\n",
      " ***\n",
      "****\n",
      "\n",
      "\n"
     ]
    }
   ],
   "source": [
    "#Ejercicio 2\n",
    "n= int(input(\"ingrese un numero entero\"))\n",
    "for i in range (n+1):\n",
    "    print('*'*i)\n",
    "print(\"\\n\")\n",
    "\n",
    "for x in range (n-1,-1,-1):\n",
    "    for i in range (n-x-1):\n",
    "        print(\" \", end=\"\")\n",
    "    for r in range(x+1):\n",
    "        print(\"*\", end=\"\")\n",
    "    print(\"\")\n",
    "print(\"\\n\")\n",
    "    \n",
    "for i in range (n,0,-1):\n",
    "    print(\"*\"*i)\n",
    "print(\"\\n\")\n",
    "\n",
    "for x in range (n,-1,-1):\n",
    "    for i in range (x):\n",
    "        print(\" \", end=\"\")\n",
    "    for r in range(x,n):\n",
    "        print(\"*\", end=\"\")\n",
    "    print(\"\")\n",
    "print(\"\\n\")\n"
   ]
  },
  {
   "cell_type": "code",
   "execution_count": 147,
   "id": "48e1c7f5-b38d-4952-9df7-5d8d228863ef",
   "metadata": {},
   "outputs": [
    {
     "name": "stdin",
     "output_type": "stream",
     "text": [
      "ingrese dia de nacimiento 13\n",
      "ingrese mes de nacimiento 04\n",
      "ingrese año de nacimiento 1998\n"
     ]
    },
    {
     "name": "stdout",
     "output_type": "stream",
     "text": [
      "9092.0\n",
      " usted tiene 24.0 años, 11.0 meses y 2.0 dias\n"
     ]
    }
   ],
   "source": [
    "#ejercicio 3\n",
    "import datetime\n",
    "from datetime import date\n",
    "from datetime import datetime\n",
    "dia = input(\"ingrese dia de nacimiento\")\n",
    "mes = input(\"ingrese mes de nacimiento\")\n",
    "año = input(\"ingrese año de nacimiento\")\n",
    "fechah = date.today()\n",
    "fechai = año+\"-\"+mes+\"-\"+dia\n",
    "formatting = '%Y-%m-%d'\n",
    "ingresada = datetime.strptime(fechai,formatting).date()\n",
    "dias=(fechah-ingresada)\n",
    "duracion_s = dias.total_seconds() \n",
    "dias= duracion_s // (24*60*60)\n",
    "print(dias)\n",
    "\n",
    "años= dias//365\n",
    "dias= dias%365\n",
    "meses= dias//30\n",
    "dias= dias%30\n",
    "\n",
    "print(f\" usted tiene {años} años, {meses} meses y {dias} dias\")\n",
    "\n",
    "\n",
    "\n"
   ]
  },
  {
   "cell_type": "code",
   "execution_count": 463,
   "id": "afdccaa5-e1fd-4641-aec9-ea836f6c1282",
   "metadata": {},
   "outputs": [
    {
     "name": "stdout",
     "output_type": "stream",
     "text": [
      "12h\n",
      "123\n",
      "ab\n"
     ]
    }
   ],
   "source": [
    "#ejercicio 4\n",
    "def uniont (x):\n",
    "    s = ''.join(map(str, x))\n",
    "    return s\n",
    "tupla1=(1 , 2 , \"h\")\n",
    "r= uniont(tupla1)\n",
    "print(r)\n",
    "tupla2=(1 , 2 ,3)\n",
    "r2= uniont(tupla2)\n",
    "print(r2)\n",
    "tupla3=(\"a\",\"b\")\n",
    "r3= uniont(tupla3)\n",
    "print(r3)\n"
   ]
  },
  {
   "cell_type": "code",
   "execution_count": 464,
   "id": "a2729822-18e8-47dc-9394-b0b29e57e499",
   "metadata": {},
   "outputs": [
    {
     "name": "stdout",
     "output_type": "stream",
     "text": [
      "[('X',), ('a', 'b'), ('a', 'b', 'c'), 'd']\n"
     ]
    }
   ],
   "source": [
    "#Ejercicio 5\n",
    "def borrar (x):\n",
    "    listas = (s for s in x if s)\n",
    "    tuplas = [t for t in listas if t]\n",
    "    print(tuplas)\n",
    "tupla1 =[(), (), ('X',), ('a', 'b'), ('a', 'b', 'c'), ('d')]\n",
    "r= borrar(tupla1)\n"
   ]
  },
  {
   "cell_type": "code",
   "execution_count": 422,
   "id": "4bacc5b2-ea98-4cc0-9401-555d7d2532c2",
   "metadata": {},
   "outputs": [
    {
     "name": "stdout",
     "output_type": "stream",
     "text": [
      "((10, 10, 10, 12), (30, 45, 56, 45), (81, 80, 39, 32))\n",
      "(10.5, 44.0, 58.0)\n"
     ]
    }
   ],
   "source": [
    "#Ejercicio 6\n",
    "\n",
    "tupla1 = ((10, 10, 10, 12),(30, 45, 56, 45), (81, 80, 39, 32))\n",
    "\n",
    "def a():\n",
    "    p=[]\n",
    "    for i in range(0,len(tupla1),1):\n",
    "        l= len(tupla1[i])\n",
    "        a = sum(tupla1[i]) / l \n",
    "        p.append(a)\n",
    "    return p\n",
    "lista =a()\n",
    "print(tupla1)\n",
    "print(tuple(lista))\n",
    "\n"
   ]
  },
  {
   "cell_type": "code",
   "execution_count": 465,
   "id": "095382a7-4aaf-4aee-97fb-4bbd8279a44d",
   "metadata": {},
   "outputs": [
    {
     "name": "stdout",
     "output_type": "stream",
     "text": [
      "Recaudado: 0\n",
      "Pendiente de cobro:  0\n"
     ]
    },
    {
     "name": "stdin",
     "output_type": "stream",
     "text": [
      "tienes una nueva factura? (I),  quieres pagarla? (P) para terminar (F)?  I\n",
      "Introduce el número de la factura:  1234\n",
      "Introduce el costo de la factura:  458\n"
     ]
    },
    {
     "name": "stdout",
     "output_type": "stream",
     "text": [
      "Recaudado: 0\n",
      "Pendiente de cobro:  458.0\n"
     ]
    },
    {
     "name": "stdin",
     "output_type": "stream",
     "text": [
      "tienes una nueva factura? (I),  quieres pagarla? (P) para terminar (F)?  I\n",
      "Introduce el número de la factura:  5687\n",
      "Introduce el costo de la factura:  457\n"
     ]
    },
    {
     "name": "stdout",
     "output_type": "stream",
     "text": [
      "Recaudado: 0\n",
      "Pendiente de cobro:  915.0\n"
     ]
    },
    {
     "name": "stdin",
     "output_type": "stream",
     "text": [
      "tienes una nueva factura? (I),  quieres pagarla? (P) para terminar (F)?  P\n",
      "Introduce el número de la factura a pagar:  1234\n"
     ]
    },
    {
     "name": "stdout",
     "output_type": "stream",
     "text": [
      "Recaudado: 458.0\n",
      "Pendiente de cobro:  457.0\n"
     ]
    },
    {
     "name": "stdin",
     "output_type": "stream",
     "text": [
      "tienes una nueva factura? (I),  quieres pagarla? (P) para terminar (F)?  F\n"
     ]
    }
   ],
   "source": [
    "#ejercicio 7\n",
    "facturas = {}\n",
    "pagadas = 0\n",
    "faltantes = 0\n",
    "seguir = ''\n",
    "while seguir != 'F':\n",
    "    if seguir == 'I':\n",
    "        key = input('Introduce el número de la factura: ')\n",
    "        if len(key) != 4:\n",
    "            print(\"factura invalida ,INGRESA FACTURA DE 4 DIGITOS PORFAVOR\")\n",
    "        else:\n",
    "            costo = float(input('Introduce el costo de la factura: '))\n",
    "            facturas[key] = costo\n",
    "            faltantes += costo\n",
    "    if seguir == 'P':\n",
    "        key = input('Introduce el número de la factura a pagar: ')\n",
    "        costo = facturas.pop(key, 0)\n",
    "        pagadas += costo\n",
    "        faltantes -= costo\n",
    "    print('Recaudado:', pagadas)\n",
    "    print('Pendiente de cobro: ', faltantes)\n",
    "    seguir = input('tienes una nueva factura? (I),  quieres pagarla? (P) para terminar (F)? ')"
   ]
  },
  {
   "cell_type": "code",
   "execution_count": 466,
   "id": "55a10b1e-9623-476c-9bff-18359109033e",
   "metadata": {},
   "outputs": [
    {
     "name": "stdout",
     "output_type": "stream",
     "text": [
      "['C1', 'C2', 'C3', 'C4', 'C5', 'C6', 'C7', 'C8', 'C9', 'C10', 'C11', 'C12', 'C13', 'P1', 'P2', 'P3', 'P4', 'P5', 'P6', 'P7', 'P8', 'P9', 'P10', 'P11', 'P12', 'P13', 'E1', 'E2', 'E3', 'E4', 'E5', 'E6', 'E7', 'E8', 'E9', 'E10', 'E11', 'E12', 'E13', 'T1', 'T2', 'T3', 'T4', 'T5', 'T6', 'T7', 'T8', 'T9', 'T10', 'T11', 'T12', 'T13']\n",
      " la mano 1 es {'T13', 'C13'}\n",
      " la mano 2 es {'E6', 'P3'}\n",
      " la union es {'E6', 'T13', 'P3', 'C13'}\n",
      "la interseccion es set()\n",
      "p1 es 0.5 p2 es 0.5\n",
      "la interseccion calculada es:0.0\n",
      "la interseccion real es :0.0\n",
      " si son independientes\n"
     ]
    }
   ],
   "source": [
    "#Ejercicio 8\n",
    "import random\n",
    "def barajas():\n",
    "     tipos = ['C', 'P', 'E', 'T']\n",
    "     numeros = list(range(1, 14, 1))\n",
    "    \n",
    "     baraja = []\n",
    "     for tipo in tipos:\n",
    "          for numero in numeros:\n",
    "               carta = tipo+str(numero)\n",
    "               baraja.append(carta)\n",
    "\n",
    "     return baraja\n",
    "b1= barajas()\n",
    "print(b1)\n",
    "\n",
    "def manos():\n",
    "    num= random.randint(1,6)\n",
    "    a = set()\n",
    "    for tipo in range(0,num,1):\n",
    "        cartas= random.choice(b1)\n",
    "        a.add(cartas)\n",
    "    return a\n",
    "a1= manos()\n",
    "card1= len(a1)\n",
    "a2= manos()\n",
    "card2= len(a2)\n",
    "p1= card1 / (card1+card2)\n",
    "p2= card2/ (card2+card1)\n",
    "print(f\" la mano 1 es {a1}\")\n",
    "print(f\" la mano 2 es {a2}\")\n",
    "inter= a1.intersection(a2)\n",
    "union=a1.union(a2)\n",
    "unioncard = len(union)\n",
    "punion= unioncard/ (card1+card2)\n",
    "print(f\" la union es {union}\")\n",
    "print(f\"la interseccion es {inter}\")\n",
    "intermanual= (p1+p2)-punion\n",
    "print(f\"p1 es {p1} p2 es {p2}\")\n",
    "print(f\"la interseccion calculada es:{intermanual}\")\n",
    "interreal= len(inter)/ (card1+card2)\n",
    "print(f\"la interseccion real es :{interreal}\")\n",
    "print(f\" si son independientes\")\n",
    "\n",
    "\n",
    "    \n"
   ]
  },
  {
   "cell_type": "code",
   "execution_count": null,
   "id": "57ebd9f8-f20d-496e-87ea-92b2c8ca0ce2",
   "metadata": {},
   "outputs": [],
   "source": []
  },
  {
   "cell_type": "code",
   "execution_count": null,
   "id": "074a662f-6156-4ba2-9d2a-809e69bcdab2",
   "metadata": {},
   "outputs": [],
   "source": []
  }
 ],
 "metadata": {
  "kernelspec": {
   "display_name": "Python 3 (ipykernel)",
   "language": "python",
   "name": "python3"
  },
  "language_info": {
   "codemirror_mode": {
    "name": "ipython",
    "version": 3
   },
   "file_extension": ".py",
   "mimetype": "text/x-python",
   "name": "python",
   "nbconvert_exporter": "python",
   "pygments_lexer": "ipython3",
   "version": "3.9.13"
  }
 },
 "nbformat": 4,
 "nbformat_minor": 5
}
