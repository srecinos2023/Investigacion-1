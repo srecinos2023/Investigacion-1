{
 "cells": [
  {
   "cell_type": "markdown",
   "id": "58ec7fba-21a7-44f9-8f1e-02c7f58e8a6f",
   "metadata": {},
   "source": [
    "# Que es Git?\n",
    "\n",
    "Git es un sistema de control de versiones, Está pensando en la eficiencia y la confiabilidad del mantenimiento de versiones de aplicaciones cuando estas tienen un gran número de archivos de código fuente\n"
   ]
  },
  {
   "cell_type": "markdown",
   "id": "d7d00bdb-4897-4892-891e-c07ed0bd880c",
   "metadata": {},
   "source": [
    "### Ventajas de Git \n",
    "\n",
    "+ Git está optimizado para guardar cambios de forma incremental.\n",
    "+ Permite contar con un historial, regresar a una versión anterior y agregar funcionalidades.\n",
    "+ Lleva un registro de los cambios que otras personas realicen en los archivos."
   ]
  },
  {
   "cell_type": "markdown",
   "id": "059648b4-c3e1-4c8e-a550-f2e99c54a74d",
   "metadata": {},
   "source": [
    "### para que sirve git?\n",
    "\n",
    "Con Git se obtiene una mayor eficiencia usando archivos de texto plano, \n",
    "ya que con archivos binarios no puede guardar solo los cambios, sino que debe volver a grabar el archivo completo ante cada modificación,por mínima que sea, lo que hace que incremente demasiado el tamaño del repositorio."
   ]
  },
  {
   "cell_type": "markdown",
   "id": "520a03ef-0603-42b1-8dcd-39a2ee816aa2",
   "metadata": {},
   "source": [
    "### caracterizticas de Git\n",
    "\n",
    "1. Git almacena la información como un conjunto de archivos.\n",
    "2. No existen cambios, corrupción en archivos o cualquier alteración sin que Git lo sepa.\n",
    "3. Casi todo en Git es local. Es difícil que se necesiten recursos o información externos, basta con los recursos locales con los que cuenta.\n",
    "4. Git cuenta con 3 estados en los que es posible localizar archivos: Staged, Modified y Committed."
   ]
  },
  {
   "cell_type": "markdown",
   "id": "664a0af6-8016-4e47-980a-d87e0e878c48",
   "metadata": {},
   "source": [
    "# Qué es Github\n",
    "\n",
    "GitHub es una plataforma de alojamiento esto  ofrece a los desarrolladores la posibilidad de crear repositorios de código y guardarlos en la nube de forma segura, usando un sistema de control de versiones llamado Git.\n",
    "\n",
    "Ademas Es el sistema de control de versiones más moderno y popular del mundo , estea garantiza la eficiencia y confiabilidad del mantenimiento íntegro de versiones de un proyecto, aun cuando este tenga un gran número de archivos o ramas en su código fuente.\n"
   ]
  },
  {
   "cell_type": "markdown",
   "id": "e9c96cce-af6f-45de-ac11-a651a822d3eb",
   "metadata": {},
   "source": [
    "### Ventajas de Github \n",
    "\n",
    "+ GitHub permite que alojemos proyectos en repositorios de forma gratuita\n",
    "+ Te brinda la posibilidad de personalizar tu perfil en la plataforma\n",
    "+ Los repositorios son públicos por defecto. Sin embargo, GitHub te permite también alojar tus proyectos de forma privada\n",
    "+ Puedes crear y compartir páginas web estáticas con GitHub Pages\n",
    "+ Facilita compartir tus proyectos de una forma mucho más fácil y crear un portafolio\n",
    "+ Te permite colaborar para mejorar los proyectos de otros y a otros mejorar o aportar a los tuyos\n",
    "+ Ayuda reducir significativamente los errores humanos y escribir tu código más rápido con GitHub Copilot\n"
   ]
  },
  {
   "cell_type": "markdown",
   "id": "5f94db35-6213-459a-a03b-ca9ea4622ae7",
   "metadata": {},
   "source": [
    "### Como Funciona\n",
    "\n",
    "GitHub  permite subir repositorios de código para que sean almacenados en la nube a través del sistema de control de versiones de Git y participar también en el desarrollo de proyectos de otros , lo que significa que cualquiera en el mundo que use GitHub puede encontrar tu código si se tiene publico \n"
   ]
  },
  {
   "cell_type": "markdown",
   "id": "3cbf7398-fc76-4c3a-9820-e3d8c0173af2",
   "metadata": {},
   "source": [
    "### importante conocer lo basico de github\n",
    "\n",
    "+ crear repositorios \n",
    "+ branchs o ramas \n",
    "+ comments"
   ]
  },
  {
   "cell_type": "markdown",
   "id": "a396ae25-799a-49b5-97da-009b733d6e71",
   "metadata": {},
   "source": [
    "# Qué es MARKDOWN\n",
    "\n",
    "Markdown es un lenguaje de marcado que facilita la aplicación de formato a un texto empleando una serie de caracteres de una forma especial. En principio, fue pensado para elaborar textos cuyo destino iba a ser la web con más rapidez y sencillez que si estuviésemos empleando directamente HTML."
   ]
  },
  {
   "cell_type": "markdown",
   "id": "a6ca32e0-e7b9-4372-8be1-fa2ef04cede5",
   "metadata": {},
   "source": [
    "### Comandos en Markdown \n",
    "\n",
    "+ # sirve para la creacion de titulos y subtitulos \n",
    "+ 1 * sirve para la letra *cursiva*\n",
    "+ 2 * sirve para la letra **negrita**\n",
    "+ las litas se crean con la sintaxis de + o * o - entre cada elemento de la lista , pueden ser numeros tambien \n",
    "+ >para hacer una cita se coloca el signo > al inicio \n",
    "+ las lineas de codigo pueden ir entre ()\n",
    "+ las referencias se hacen con <>\n",
    "+ para insertar imagenes #!#[Ejemplo]#(markdown.png \"MarkDown\")#"
   ]
  },
  {
   "cell_type": "markdown",
   "id": "ceed8b24-8145-4693-8804-f87341a62d41",
   "metadata": {},
   "source": [
    "### Referencias \n",
    "\n",
    "+ <https://platzi.com/blog/que-es-github-como-funciona/>\n",
    "+ <https://www.atlassian.com/es/git/tutorials/what-is-git>\n"
   ]
  },
  {
   "cell_type": "code",
   "execution_count": null,
   "id": "8e0e4bad-ca06-486a-bd03-120ce2b9a9e7",
   "metadata": {},
   "outputs": [],
   "source": []
  }
 ],
 "metadata": {
  "kernelspec": {
   "display_name": "Python 3 (ipykernel)",
   "language": "python",
   "name": "python3"
  },
  "language_info": {
   "codemirror_mode": {
    "name": "ipython",
    "version": 3
   },
   "file_extension": ".py",
   "mimetype": "text/x-python",
   "name": "python",
   "nbconvert_exporter": "python",
   "pygments_lexer": "ipython3",
   "version": "3.9.13"
  }
 },
 "nbformat": 4,
 "nbformat_minor": 5
}
